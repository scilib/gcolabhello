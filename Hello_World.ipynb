{
  "nbformat": 4,
  "nbformat_minor": 0,
  "metadata": {
    "colab": {
      "name": "Hello World.ipynb",
      "provenance": []
    },
    "kernelspec": {
      "name": "python3",
      "display_name": "Python 3"
    },
    "language_info": {
      "name": "python"
    }
  },
  "cells": [
    {
      "cell_type": "markdown",
      "metadata": {
        "id": "-lfMmN-wfeZ4"
      },
      "source": [
        "A [Google Colaboratory](https://colab.research.google.com/)  Jupyter Notebook\n",
        "Hello World demo\n",
        "testing integration with Github"
      ]
    },
    {
      "cell_type": "markdown",
      "metadata": {
        "id": "5-g0WAvyfqy-"
      },
      "source": [
        "Jupyter Notebooks are a mix of text blocks (like this one)."
      ]
    },
    {
      "cell_type": "code",
      "metadata": {
        "colab": {
          "base_uri": "https://localhost:8080/"
        },
        "id": "P-fQwF8dfdgN",
        "outputId": "7beed115-433e-4ba9-ab4a-8c64680e2f87"
      },
      "source": [
        "# and executable Python code blocks like this one\n",
        "print(\"Hello World\")"
      ],
      "execution_count": 2,
      "outputs": [
        {
          "output_type": "stream",
          "text": [
            "Hello World\n"
          ],
          "name": "stdout"
        }
      ]
    }
  ]
}